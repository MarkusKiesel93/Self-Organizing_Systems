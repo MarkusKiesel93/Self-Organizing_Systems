{
 "cells": [
  {
   "cell_type": "code",
   "execution_count": 1,
   "metadata": {},
   "outputs": [],
   "source": [
    "import numpy as np\n",
    "import pandas as pd\n",
    "\n",
    "from src.problem_loaders.tsp import TspLoader"
   ]
  },
  {
   "cell_type": "code",
   "execution_count": 2,
   "metadata": {},
   "outputs": [],
   "source": [
    "tsp_loader = TspLoader()\n",
    "problem_instance = tsp_loader.load_problem_instance('FIVE')"
   ]
  },
  {
   "cell_type": "code",
   "execution_count": 3,
   "metadata": {},
   "outputs": [
    {
     "data": {
      "text/plain": [
       "array([[0., 3., 4., 2., 7.],\n",
       "       [3., 0., 4., 6., 3.],\n",
       "       [4., 4., 0., 5., 8.],\n",
       "       [2., 6., 5., 0., 6.],\n",
       "       [7., 3., 8., 6., 0.]])"
      ]
     },
     "execution_count": 3,
     "metadata": {},
     "output_type": "execute_result"
    }
   ],
   "source": [
    "problem_instance"
   ]
  },
  {
   "cell_type": "code",
   "execution_count": null,
   "metadata": {},
   "outputs": [],
   "source": []
  }
 ],
 "metadata": {
  "kernelspec": {
   "display_name": "Python 3.9.2 ('exercise_1-kzbzunyI')",
   "language": "python",
   "name": "python3"
  },
  "language_info": {
   "codemirror_mode": {
    "name": "ipython",
    "version": 3
   },
   "file_extension": ".py",
   "mimetype": "text/x-python",
   "name": "python",
   "nbconvert_exporter": "python",
   "pygments_lexer": "ipython3",
   "version": "3.9.2"
  },
  "orig_nbformat": 4,
  "vscode": {
   "interpreter": {
    "hash": "7e41a394e3c4e35e6f3d8aafd03a451a5161c4f96496c921a16c759e7b0a213c"
   }
  }
 },
 "nbformat": 4,
 "nbformat_minor": 2
}
